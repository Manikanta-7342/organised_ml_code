{
 "cells": [
  {
   "cell_type": "code",
   "execution_count": 21,
   "metadata": {
    "collapsed": true
   },
   "outputs": [],
   "source": [
    "import pandas as pd\n",
    "import numpy as np"
   ]
  },
  {
   "cell_type": "code",
   "execution_count": null,
   "outputs": [],
   "source": [
    "dataset = pd.read_csv('50_Startups.csv')\n",
    "print(dataset)"
   ],
   "metadata": {
    "collapsed": false,
    "pycharm": {
     "name": "#%%\n",
     "is_executing": true
    }
   }
  },
  {
   "cell_type": "code",
   "execution_count": 25,
   "outputs": [],
   "source": [
    "dataset['new']=dataset['Marketing Spend']+dataset['Administration']"
   ],
   "metadata": {
    "collapsed": false,
    "pycharm": {
     "name": "#%%\n"
    }
   }
  },
  {
   "cell_type": "code",
   "execution_count": 33,
   "outputs": [
    {
     "name": "stdout",
     "output_type": "stream",
     "text": [
      "0     608681.90\n",
      "1     595276.12\n",
      "2     509080.09\n",
      "3     501871.47\n",
      "4     457560.19\n",
      "5     462676.07\n",
      "6     274915.69\n",
      "7     469406.74\n",
      "8     460332.24\n",
      "9     413660.79\n",
      "10    339755.06\n",
      "11    341535.16\n",
      "12    377159.82\n",
      "13    388160.00\n",
      "14    413060.34\n",
      "15    384393.07\n",
      "16    385943.61\n",
      "17    427651.89\n",
      "18    409095.36\n",
      "19    153514.11\n",
      "20    412531.77\n",
      "21    453510.72\n",
      "22    426102.01\n",
      "23    410519.76\n",
      "24    239856.15\n",
      "25    277515.78\n",
      "26    278186.05\n",
      "27    481048.36\n",
      "28    300793.76\n",
      "29    260170.44\n",
      "30    206772.52\n",
      "31    240920.15\n",
      "32    175304.86\n",
      "33    317692.30\n",
      "34    368491.59\n",
      "35    290565.08\n",
      "36    328183.03\n",
      "37    248312.56\n",
      "38    251213.03\n",
      "39    257981.39\n",
      "40    291341.72\n",
      "41    249181.48\n",
      "42    244190.74\n",
      "43    162916.47\n",
      "44    183140.86\n",
      "45    126056.97\n",
      "46    412930.67\n",
      "47    135426.92\n",
      "48     51743.15\n",
      "49    162156.86\n",
      "Name: new, dtype: float64\n"
     ]
    }
   ],
   "source": [
    "#print(dataset)\n",
    "print(dataset['new'])\n"
   ],
   "metadata": {
    "collapsed": false,
    "pycharm": {
     "name": "#%%\n"
    }
   }
  },
  {
   "cell_type": "code",
   "execution_count": 29,
   "outputs": [
    {
     "name": "stdout",
     "output_type": "stream",
     "text": [
      "0     471784.10\n",
      "1     443898.53\n",
      "2     407934.54\n",
      "3     383199.62\n",
      "4     366168.42\n",
      "5     362861.36\n",
      "6     127716.82\n",
      "7     323876.68\n",
      "8     311613.29\n",
      "9     304981.62\n",
      "10    229160.95\n",
      "11    249744.55\n",
      "12    249839.44\n",
      "13    252664.93\n",
      "14    256512.92\n",
      "15    261776.23\n",
      "16    264346.06\n",
      "17    282574.31\n",
      "18    294919.57\n",
      "19         0.00\n",
      "20    298664.47\n",
      "21    299737.29\n",
      "22    303319.26\n",
      "23    304768.73\n",
      "24    140574.81\n",
      "25    137962.62\n",
      "26    134050.07\n",
      "27    353183.81\n",
      "28    118148.20\n",
      "29    107138.38\n",
      "30     91131.24\n",
      "31     88218.23\n",
      "32     46085.25\n",
      "33    214634.81\n",
      "34    210797.67\n",
      "35    205517.64\n",
      "36    201126.82\n",
      "37    197029.42\n",
      "38    185265.10\n",
      "39    174999.30\n",
      "40    172795.67\n",
      "41    164470.71\n",
      "42    148001.11\n",
      "43     35534.17\n",
      "44     28334.72\n",
      "45      1903.93\n",
      "46    297114.46\n",
      "47         0.00\n",
      "48         0.00\n",
      "49     45173.06\n",
      "Name: Marketing Spend, dtype: float64\n"
     ]
    }
   ],
   "source": [
    "li=(dataset['Marketing Spend'])\n",
    "print(li)"
   ],
   "metadata": {
    "collapsed": false,
    "pycharm": {
     "name": "#%%\n"
    }
   }
  },
  {
   "cell_type": "code",
   "execution_count": 31,
   "outputs": [
    {
     "name": "stdout",
     "output_type": "stream",
     "text": [
      "0     136897.80\n",
      "1     151377.59\n",
      "2     101145.55\n",
      "3     118671.85\n",
      "4      91391.77\n",
      "5      99814.71\n",
      "6     147198.87\n",
      "7     145530.06\n",
      "8     148718.95\n",
      "9     108679.17\n",
      "10    110594.11\n",
      "11     91790.61\n",
      "12    127320.38\n",
      "13    135495.07\n",
      "14    156547.42\n",
      "15    122616.84\n",
      "16    121597.55\n",
      "17    145077.58\n",
      "18    114175.79\n",
      "19    153514.11\n",
      "20    113867.30\n",
      "21    153773.43\n",
      "22    122782.75\n",
      "23    105751.03\n",
      "24     99281.34\n",
      "25    139553.16\n",
      "26    144135.98\n",
      "27    127864.55\n",
      "28    182645.56\n",
      "29    153032.06\n",
      "30    115641.28\n",
      "31    152701.92\n",
      "32    129219.61\n",
      "33    103057.49\n",
      "34    157693.92\n",
      "35     85047.44\n",
      "36    127056.21\n",
      "37     51283.14\n",
      "38     65947.93\n",
      "39     82982.09\n",
      "40    118546.05\n",
      "41     84710.77\n",
      "42     96189.63\n",
      "43    127382.30\n",
      "44    154806.14\n",
      "45    124153.04\n",
      "46    115816.21\n",
      "47    135426.92\n",
      "48     51743.15\n",
      "49    116983.80\n",
      "Name: Administration, dtype: float64\n",
      "None\n"
     ]
    }
   ],
   "source": [
    "ls=print(dataset['Administration'])\n",
    "print(ls)"
   ],
   "metadata": {
    "collapsed": false,
    "pycharm": {
     "name": "#%%\n"
    }
   }
  },
  {
   "cell_type": "code",
   "execution_count": 33,
   "outputs": [],
   "source": [],
   "metadata": {
    "collapsed": false,
    "pycharm": {
     "name": "#%%\n"
    }
   }
  },
  {
   "cell_type": "code",
   "execution_count": null,
   "outputs": [],
   "source": [],
   "metadata": {
    "collapsed": false,
    "pycharm": {
     "name": "#%%\n"
    }
   }
  }
 ],
 "metadata": {
  "kernelspec": {
   "display_name": "Python 3",
   "language": "python",
   "name": "python3"
  },
  "language_info": {
   "codemirror_mode": {
    "name": "ipython",
    "version": 2
   },
   "file_extension": ".py",
   "mimetype": "text/x-python",
   "name": "python",
   "nbconvert_exporter": "python",
   "pygments_lexer": "ipython2",
   "version": "2.7.6"
  }
 },
 "nbformat": 4,
 "nbformat_minor": 0
}